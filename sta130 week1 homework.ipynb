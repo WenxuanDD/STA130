{
 "cells": [
  {
   "cell_type": "code",
   "execution_count": 3,
   "id": "cecc37ed",
   "metadata": {},
   "outputs": [],
   "source": [
    "#pre-lecture\n",
    "import pandas as pd\n",
    "\n",
    "url = 'https://raw.githubusercontent.com/rfordatascience/tidytuesday/master/data/2020/2020-05-05/villagers.csv'\n",
    "data = pd.read_csv(url)\n"
   ]
  },
  {
   "cell_type": "code",
   "execution_count": 4,
   "id": "f20ed9ef",
   "metadata": {},
   "outputs": [
    {
     "name": "stdout",
     "output_type": "stream",
     "text": [
      "   row_n       id     name  gender    species birthday personality  \\\n",
      "0      2  admiral  Admiral    male       bird     1-27      cranky   \n",
      "1      3  agent-s  Agent S  female   squirrel      7-2       peppy   \n",
      "2      4    agnes    Agnes  female        pig     4-21        uchi   \n",
      "3      6       al       Al    male    gorilla    10-18        lazy   \n",
      "4      7  alfonso  Alfonso    male  alligator      6-9        lazy   \n",
      "\n",
      "          song    phrase           full_id  \\\n",
      "0   Steep Hill   aye aye  villager-admiral   \n",
      "1      DJ K.K.  sidekick  villager-agent-s   \n",
      "2   K.K. House   snuffle    villager-agnes   \n",
      "3   Steep Hill   Ayyeeee       villager-al   \n",
      "4  Forest Life  it'sa me  villager-alfonso   \n",
      "\n",
      "                                                 url  \n",
      "0  https://villagerdb.com/images/villagers/thumb/...  \n",
      "1  https://villagerdb.com/images/villagers/thumb/...  \n",
      "2  https://villagerdb.com/images/villagers/thumb/...  \n",
      "3  https://villagerdb.com/images/villagers/thumb/...  \n",
      "4  https://villagerdb.com/images/villagers/thumb/...  \n",
      "Index(['row_n', 'id', 'name', 'gender', 'species', 'birthday', 'personality',\n",
      "       'song', 'phrase', 'full_id', 'url'],\n",
      "      dtype='object')\n",
      "(391, 11)\n"
     ]
    }
   ],
   "source": [
    "# Display the first few rows of the dataset\n",
    "print(data.head())\n",
    "\n",
    "# Show the column names\n",
    "print(data.columns)\n",
    "\n",
    "# Get the number of rows and columns\n",
    "print(data.shape)\n"
   ]
  },
  {
   "cell_type": "code",
   "execution_count": 5,
   "id": "52996e4c",
   "metadata": {},
   "outputs": [
    {
     "name": "stdout",
     "output_type": "stream",
     "text": [
      "Columns: ['row_n', 'id', 'name', 'gender', 'species', 'birthday', 'personality', 'song', 'phrase', 'full_id', 'url']\n",
      "Number of rows: 391\n",
      "Number of columns: 11\n"
     ]
    }
   ],
   "source": [
    "# Get the column names\n",
    "columns = data.columns.tolist()\n",
    "\n",
    "# Get the number of rows and columns\n",
    "num_rows, num_columns = data.shape\n",
    "\n",
    "print(\"Columns:\", columns)\n",
    "print(\"Number of rows:\", num_rows)\n",
    "print(\"Number of columns:\", num_columns)\n"
   ]
  },
  {
   "cell_type": "code",
   "execution_count": 6,
   "id": "e72699ba",
   "metadata": {},
   "outputs": [
    {
     "name": "stdout",
     "output_type": "stream",
     "text": [
      "Categorical Columns Summary:\n",
      "             id     name gender species birthday personality          song  \\\n",
      "count       390      391    391     391      391         391           380   \n",
      "unique      390      391      2      35      361           8            92   \n",
      "top     admiral  Admiral   male     cat     1-27        lazy  K.K. Country   \n",
      "freq          1        1    204      23        2          60            10   \n",
      "\n",
      "         phrase           full_id  \\\n",
      "count       391               391   \n",
      "unique      388               391   \n",
      "top     wee one  villager-admiral   \n",
      "freq          2                 1   \n",
      "\n",
      "                                                      url  \n",
      "count                                                 391  \n",
      "unique                                                391  \n",
      "top     https://villagerdb.com/images/villagers/thumb/...  \n",
      "freq                                                    1  \n",
      "\n",
      "Numerical Columns Summary:\n",
      "            row_n\n",
      "count  391.000000\n",
      "mean   239.902813\n",
      "std    140.702672\n",
      "min      2.000000\n",
      "25%    117.500000\n",
      "50%    240.000000\n",
      "75%    363.500000\n",
      "max    483.000000\n"
     ]
    }
   ],
   "source": [
    "# Get the summary for categorical columns\n",
    "categorical_summary = data.select_dtypes(include=['object']).describe(include='all')\n",
    "\n",
    "# Get the summary for numerical columns\n",
    "numerical_summary = data.select_dtypes(include=['number']).describe()\n",
    "\n",
    "print(\"Categorical Columns Summary:\")\n",
    "print(categorical_summary)\n",
    "\n",
    "print(\"\\nNumerical Columns Summary:\")\n",
    "print(numerical_summary)"
   ]
  },
  {
   "cell_type": "code",
   "execution_count": 7,
   "id": "ad44c384",
   "metadata": {},
   "outputs": [],
   "source": [
    "#df.shape gives the total number of columns.\n",
    "#df.describe() provides summary statistics only for numeric columns, so non-numeric columns are excluded\n",
    "#The \"count\" in df.describe() shows the number of non-missing values in each numeric column, which can be less than the total number of rows due to missing data."
   ]
  },
  {
   "cell_type": "code",
   "execution_count": 8,
   "id": "cfc02d23",
   "metadata": {},
   "outputs": [],
   "source": [
    "#Attribute:represents a property or characteristic of an object, accessed directly without parentheses.\n",
    "#Method: Represents a function or action associated with an object, Called with parentheses."
   ]
  },
  {
   "cell_type": "code",
   "execution_count": null,
   "id": "2d21f938",
   "metadata": {},
   "outputs": [],
   "source": []
  },
  {
   "cell_type": "code",
   "execution_count": null,
   "id": "2a5056d7",
   "metadata": {},
   "outputs": [],
   "source": []
  },
  {
   "cell_type": "code",
   "execution_count": 11,
   "id": "e7d9e3b6",
   "metadata": {},
   "outputs": [
    {
     "name": "stdout",
     "output_type": "stream",
     "text": [
      "  Product  Sales  Profit\n",
      "0       A  100.0    20.0\n",
      "1       B    NaN    30.0\n",
      "2       C  150.0     NaN\n",
      "3       D    NaN    10.0\n"
     ]
    }
   ],
   "source": [
    "#Post-lecture\n",
    "import pandas as pd\n",
    "import numpy as np\n",
    "\n",
    "data = {\n",
    "    'Product': ['A', 'B', 'C', 'D'],\n",
    "    'Sales': [100, np.nan, 150, np.nan],\n",
    "    'Profit': [20, 30, np.nan, 10]\n",
    "}\n",
    "\n",
    "df = pd.DataFrame(data)\n",
    "print (df)"
   ]
  },
  {
   "cell_type": "code",
   "execution_count": 14,
   "id": "9444b322",
   "metadata": {},
   "outputs": [
    {
     "name": "stdout",
     "output_type": "stream",
     "text": [
      "Original DataFrame:\n",
      "  Product  Sales  Profit\n",
      "0       A  100.0    20.0\n",
      "1       B    NaN    30.0\n",
      "2       C  150.0     NaN\n",
      "3       D    NaN    10.0\n",
      "\n",
      "DataFrame after deleting 'Profit' column:\n",
      "  Product  Sales\n",
      "0       A  100.0\n",
      "1       B    NaN\n",
      "2       C  150.0\n",
      "3       D    NaN\n"
     ]
    }
   ],
   "source": [
    "import pandas as pd\n",
    "import numpy as np\n",
    "\n",
    "# Create a DataFrame\n",
    "data = {\n",
    "    'Product': ['A', 'B', 'C', 'D'],\n",
    "    'Sales': [100, np.nan, 150, np.nan],\n",
    "    'Profit': [20, 30, np.nan, 10]\n",
    "}\n",
    "df = pd.DataFrame(data)\n",
    "\n",
    "# Print the original DataFrame\n",
    "print(\"Original DataFrame:\")\n",
    "print(df)\n",
    "\n",
    "# Remove the 'Profit' column\n",
    "del df['Profit']\n",
    "\n",
    "# Print the DataFrame after deleting the 'Profit' column\n",
    "print(\"\\nDataFrame after deleting 'Profit' column:\")\n",
    "print(df)\n"
   ]
  },
  {
   "cell_type": "code",
   "execution_count": 15,
   "id": "1671434e",
   "metadata": {},
   "outputs": [],
   "source": [
    "#Use df.dropna() when you need to remove rows (or columns) with missing values.\n",
    "#Use del df['col'] when you want to remove a specific column entirely from the DataFrame."
   ]
  },
  {
   "cell_type": "code",
   "execution_count": 17,
   "id": "ae2892f1",
   "metadata": {},
   "outputs": [
    {
     "name": "stdout",
     "output_type": "stream",
     "text": [
      "Original DataFrame:\n",
      "  Product  Sales  Profit  Discount\n",
      "0       A    100      20         5\n",
      "1       B    200      30        10\n",
      "2       C    150      25         0\n",
      "3       D    300      40        15\n",
      "\n",
      "DataFrame after deleting 'Discount' column:\n",
      "  Product  Sales  Profit\n",
      "0       A    100      20\n",
      "1       B    200      30\n",
      "2       C    150      25\n",
      "3       D    300      40\n"
     ]
    }
   ],
   "source": [
    "import pandas as pd\n",
    "\n",
    "# Create a DataFrame\n",
    "data = {\n",
    "    'Product': ['A', 'B', 'C', 'D'],\n",
    "    'Sales': [100, 200, 150, 300],\n",
    "    'Profit': [20, 30, 25, 40],\n",
    "    'Discount': [5, 10, 0, 15]\n",
    "}\n",
    "df = pd.DataFrame(data)\n",
    "\n",
    "# Print the original DataFrame\n",
    "print(\"Original DataFrame:\")\n",
    "print(df)\n",
    "\n",
    "# Suppose 'Discount' column is no longer needed\n",
    "del df['Discount']\n",
    "\n",
    "# Print the DataFrame after deleting the 'Discount' column\n",
    "print(\"\\nDataFrame after deleting 'Discount' column:\")\n",
    "print(df)\n"
   ]
  },
  {
   "cell_type": "code",
   "execution_count": 18,
   "id": "ebaf56b5",
   "metadata": {},
   "outputs": [],
   "source": [
    "#del df['col'] might be preferred:\n",
    "#1.Irrelevant Data: If a column is irrelevant or redundant, removing it with del df['col'] is straightforward and effective.\n",
    "#2.Clarity: Removing unnecessary columns can make the DataFrame easier to understand and work with.\n",
    "#3.Memory Efficiency: Removing columns you don't need can help reduce the memory footprint of your DataFrame, especially if it has many columns"
   ]
  },
  {
   "cell_type": "code",
   "execution_count": 19,
   "id": "0604d4c3",
   "metadata": {},
   "outputs": [],
   "source": [
    "#Applying del df['col'] before df.dropna() can be important because its reduced the DataFrame size, leading to faster operations and lower memory usage and ensures df.dropna() only affects relevant columns, avoiding unintended data loss from unnecessary columns.\n"
   ]
  },
  {
   "cell_type": "code",
   "execution_count": 21,
   "id": "86ea50c7",
   "metadata": {},
   "outputs": [
    {
     "name": "stdout",
     "output_type": "stream",
     "text": [
      "Original DataFrame:\n",
      "  Product  Sales  Profit  UnusedColumn\n",
      "0       A  100.0    20.0             1\n",
      "1       B    NaN    30.0             2\n",
      "2       C  150.0     NaN             3\n",
      "3       D    NaN    10.0             4\n",
      "\n",
      "Cleaned DataFrame after removing irrelevant column and dropping NaNs:\n",
      "  Product  Sales  Profit\n",
      "0       A  100.0    20.0\n"
     ]
    }
   ],
   "source": [
    "import pandas as pd\n",
    "import numpy as np\n",
    "\n",
    "# Create a DataFrame with missing values and an unnecessary column\n",
    "data = {\n",
    "    'Product': ['A', 'B', 'C', 'D'],\n",
    "    'Sales': [100, np.nan, 150, np.nan],\n",
    "    'Profit': [20, 30, np.nan, 10],\n",
    "    'UnusedColumn': [1, 2, 3, 4]  # Column not needed\n",
    "}\n",
    "df = pd.DataFrame(data)\n",
    "\n",
    "# Print the original DataFrame\n",
    "print(\"Original DataFrame:\")\n",
    "print(df)\n",
    "\n",
    "# Remove the 'UnusedColumn' as it is not needed for analysis\n",
    "del df['UnusedColumn']\n",
    "\n",
    "# Remove rows with missing values from the DataFrame\n",
    "df_clean = df.dropna()\n",
    "\n",
    "# Print the cleaned DataFrame after removing the irrelevant column and dropping rows with NaNs\n",
    "print(\"\\nCleaned DataFrame after removing irrelevant column and dropping NaNs:\")\n",
    "print(df_clean)\n"
   ]
  },
  {
   "cell_type": "code",
   "execution_count": null,
   "id": "ebead361",
   "metadata": {},
   "outputs": [],
   "source": []
  },
  {
   "cell_type": "code",
   "execution_count": null,
   "id": "3ffbeb8d",
   "metadata": {},
   "outputs": [],
   "source": []
  },
  {
   "cell_type": "code",
   "execution_count": 24,
   "id": "bda7c0ca",
   "metadata": {},
   "outputs": [
    {
     "name": "stdout",
     "output_type": "stream",
     "text": [
      "        count       mean        std   min   25%   50%   75%   max\n",
      "pclass                                                           \n",
      "1       186.0  38.233441  14.802856  0.92  27.0  37.0  49.0  80.0\n",
      "2       173.0  29.877630  14.001077  0.67  23.0  29.0  36.0  70.0\n",
      "3       355.0  25.140620  12.495398  0.42  18.0  24.0  32.0  74.0\n"
     ]
    }
   ],
   "source": [
    "import pandas as pd\n",
    "\n",
    "# Load the Titanic dataset\n",
    "url = \"https://raw.githubusercontent.com/mwaskom/seaborn-data/master/titanic.csv\"\n",
    "df = pd.read_csv(url)\n",
    "\n",
    "# Group by passenger class and describe age\n",
    "summary_stats = df.groupby(\"pclass\")[\"age\"].describe()\n",
    "print(summary_stats)\n"
   ]
  },
  {
   "cell_type": "code",
   "execution_count": null,
   "id": "f6c0c3a0",
   "metadata": {},
   "outputs": [],
   "source": []
  }
 ],
 "metadata": {
  "kernelspec": {
   "display_name": "Python 3 (ipykernel)",
   "language": "python",
   "name": "python3"
  },
  "language_info": {
   "codemirror_mode": {
    "name": "ipython",
    "version": 3
   },
   "file_extension": ".py",
   "mimetype": "text/x-python",
   "name": "python",
   "nbconvert_exporter": "python",
   "pygments_lexer": "ipython3",
   "version": "3.11.6"
  }
 },
 "nbformat": 4,
 "nbformat_minor": 5
}
